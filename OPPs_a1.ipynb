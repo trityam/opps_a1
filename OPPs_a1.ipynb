{
 "cells": [
  {
   "cell_type": "code",
   "execution_count": null,
   "id": "2185f343-b595-44d7-a007-6b7a7122c60a",
   "metadata": {},
   "outputs": [],
   "source": [
    "1.ans: a class is considerd as a blueprint of object.we use 'class' keyword to create a class in python.\n",
    "a object is callen an instane of a class.example--\n",
    "class pwskills:\n",
    "    def student_id(self):\n",
    "        pass\n",
    "    \n",
    "pw1=pwskills()\n",
    "\n",
    "here pwskills is a class and pw1 is an object of a class."
   ]
  },
  {
   "cell_type": "code",
   "execution_count": null,
   "id": "609a8990-4a48-46c7-bb53-f8315fed1f6e",
   "metadata": {},
   "outputs": [],
   "source": [
    "2.ans: polymorphism,encapsulation,abstraction and inheritance"
   ]
  },
  {
   "cell_type": "code",
   "execution_count": null,
   "id": "7356ce43-2b6b-49c7-8064-650f6d974ec2",
   "metadata": {},
   "outputs": [],
   "source": [
    "3.ans: __init__ is a special python method that runs whenever a new object is created. These types of functions \n",
    "are used to initialize the attributes of that class, E.g., if the class is Person, then the attributes will be\n",
    "name, age, etc.\n",
    "exaple--\n",
    "class person:\n",
    "    def __init__(self,age,sex,number):\n",
    "        self.a=age\n",
    "        self.s=sex\n",
    "        self.n=number"
   ]
  },
  {
   "cell_type": "code",
   "execution_count": null,
   "id": "16844e4f-ef98-4f30-8444-ffa73cc52db1",
   "metadata": {},
   "outputs": [],
   "source": [
    "4.ans:The self is used to represent the instance of the class. With this keyword, you can access the attributes\n",
    "and methods of the class in python. It binds the attributes with the given arguments. "
   ]
  },
  {
   "cell_type": "code",
   "execution_count": null,
   "id": "b48d62a8-4d83-4880-a395-2c6f4f0d385c",
   "metadata": {},
   "outputs": [],
   "source": [
    "5.ans:Inheritance is defined as the mechanism of inheriting the properties of the base class to the child class.\n",
    "Here we a going to see the types of inheritance in Python-single inheritance,multilevel inherirance ,multiple \n",
    "inheritace, hierarchical inheritance and hybrid inheritance."
   ]
  }
 ],
 "metadata": {
  "kernelspec": {
   "display_name": "Python 3 (ipykernel)",
   "language": "python",
   "name": "python3"
  },
  "language_info": {
   "codemirror_mode": {
    "name": "ipython",
    "version": 3
   },
   "file_extension": ".py",
   "mimetype": "text/x-python",
   "name": "python",
   "nbconvert_exporter": "python",
   "pygments_lexer": "ipython3",
   "version": "3.10.8"
  }
 },
 "nbformat": 4,
 "nbformat_minor": 5
}
